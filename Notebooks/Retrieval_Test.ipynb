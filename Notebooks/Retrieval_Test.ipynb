{
 "cells": [
  {
   "cell_type": "code",
   "execution_count": 1,
   "id": "4c45cad8-98c3-421b-b6ba-f089ad2ebefe",
   "metadata": {},
   "outputs": [
    {
     "name": "stderr",
     "output_type": "stream",
     "text": [
      "C:\\Users\\ngtia\\AppData\\Local\\Temp\\ipykernel_28284\\4288611385.py:9: LangChainDeprecationWarning: The class `OpenAIEmbeddings` was deprecated in LangChain 0.0.9 and will be removed in 1.0. An updated version of the class exists in the :class:`~langchain-openai package and should be used instead. To use it run `pip install -U :class:`~langchain-openai` and import as `from :class:`~langchain_openai import OpenAIEmbeddings``.\n",
      "  embedding = OpenAIEmbeddings(model = \"text-embedding-3-small\")\n",
      "C:\\Users\\ngtia\\AppData\\Local\\Temp\\ipykernel_28284\\4288611385.py:13: LangChainDeprecationWarning: The class `Chroma` was deprecated in LangChain 0.2.9 and will be removed in 1.0. An updated version of the class exists in the :class:`~langchain-chroma package and should be used instead. To use it run `pip install -U :class:`~langchain-chroma` and import as `from :class:`~langchain_chroma import Chroma``.\n",
      "  vectordb = Chroma(persist_directory=persist_directory, embedding_function=embedding)\n"
     ]
    }
   ],
   "source": [
    "import openai\n",
    "from langchain.vectorstores import Chroma\n",
    "import os\n",
    "from langchain_community.embeddings import OpenAIEmbeddings\n",
    "from dotenv import load_dotenv, find_dotenv\n",
    "_ = load_dotenv(find_dotenv()) # read local .env file\n",
    "\n",
    "openai.api_key  = os.environ['OPENAI_API_KEY']\n",
    "embedding = OpenAIEmbeddings(model = \"text-embedding-3-small\")\n",
    "\n",
    "persist_directory = '../Data/Chroma/'\n",
    "# Initialise Vector DB\n",
    "vectordb = Chroma(persist_directory=persist_directory, embedding_function=embedding)"
   ]
  },
  {
   "cell_type": "code",
   "execution_count": 23,
   "id": "78e245b5-a1db-41c4-9458-f9cc1e361802",
   "metadata": {},
   "outputs": [
    {
     "data": {
      "text/plain": [
       "\"ANNEX F-2: MAJULAH PACKAGE\\nThe Majulah Package aims to provide Singapore Citizens born in 1973 or earlier, especially those born in 1960 to 1973 ('Young Seniors', currently in their 50s and early 60s), with an additional boost for their retirement. The Majulah Package comprises the following:\\n(A) Annual Earn and Save Bonus;\\n(B) One-time Retirement Savings Bonus; and\\n(C) One-time MediSave Bonus.\\nEvery Singaporean born in 1973 or earlier will receive at least one component of the Majulah Package. The Package will benefit about 1.6 million Singaporeans.\\nThe Majulah Package is estimated to cost $8.2 billion in total lifetime costs. The Government will set aside $7.5 billion in a new Fund, the Majulah Package Fund, to fund these lifetime costs.\\n\\nMore Information\\nEarn and Save Bonus, Contact Details = 1800 222 2888 https://www.govbenefits.gov.sg/contact- us/majulah-package/. Retirement Savings Bonus, Contact Details = 1800 222 2888 https://www.govbenefits.gov.sg/contact- us/majulah-package/. MediSave Bonus, Contact Details = 1800 222 2888 https://www.govbenefits.gov.sg/contact- us/majulah-package/\\n\\n106. Second , I will raise the Enhanced Retirement Sum .\\nc. Both these bonuses will be for seniors who live in a property with Annual Value of $25,000 or less, and own no more than one property.\\nd. Third , I will provide a one-time MediSave Bonus to all seniors born in 1973 or earlier. Young Seniors with less means will be given the higher tier of $1,500; and all other seniors will receive $750.\\n111. The Minister for Manpower will share more details at the COS.\\n112. In all, the Majulah Package will benefit about 1.6 million Singaporeans, at a total lifetime cost of $8.2 billion. To honour this commitment without burdening future generations, I will set aside $7.5 billion in a new Fund - the Majulah Package Fund . And this will be sufficient to cover the lifetime cost of the Package, after accounting for investment income of the Fund.\""
      ]
     },
     "execution_count": 23,
     "metadata": {},
     "output_type": "execute_result"
    }
   ],
   "source": [
    "def format_docs(docs):\n",
    "    return \"\\n\\n\".join(doc.page_content for doc in docs)\n",
    "    \n",
    "question = \"Am I eligible for the Majulah Package?\"\n",
    "docs = vectordb.similarity_search(question,k=3)\n",
    "format_docs(docs)"
   ]
  },
  {
   "cell_type": "code",
   "execution_count": 39,
   "id": "d1a2a614-b023-48f0-b859-720cc3213344",
   "metadata": {},
   "outputs": [
    {
     "name": "stderr",
     "output_type": "stream",
     "text": [
      "2025-05-04 20:35:52,618 - INFO - HTTP Request: POST https://api.openai.com/v1/embeddings \"HTTP/1.1 200 OK\"\n"
     ]
    },
    {
     "data": {
      "text/plain": [
       "'2022, Payout Period.Payout Period = Q1 2023. 2022, Current.First Tier: Gross Monthly Wage Ceiling ≤ $2,500 = 75% 1. 2022, Current.Second Tier: Gross Monthly Wage Ceiling > $2,500 and ≤ $3,000 = 45% 1. 2022, Enhanced.First Tier: Gross Monthly Wage Ceiling ≤ $2,500 = 75%. 2022, Enhanced.Second Tier: Gross Monthly Wage Ceiling > $2,500 and ≤ $3,000 = 45%. 2023, Payout Period.Payout Period = Q1 2024. 2023, Current.First Tier: Gross Monthly Wage Ceiling ≤ $2,500 = 75% 2. 2023, Current.Second Tier: Gross Monthly Wage Ceiling > $2,500 and ≤ $3,000 = 45% 2. 2023, Enhanced.First Tier: Gross Monthly Wage Ceiling ≤ $2,500 = 75%. 2023, Enhanced.Second Tier: Gross Monthly Wage Ceiling > $2,500 and ≤ $3,000 = 45%. 2024, Payout Period.Payout Period = Q1 2025. 2024, Current.First Tier: Gross Monthly Wage Ceiling ≤ $2,500 = 30%. 2024, Current.Second Tier: Gross Monthly Wage Ceiling > $2,500 and ≤ $3,000 = 15%. 2024, Enhanced.First Tier: Gross Monthly Wage Ceiling ≤ $2,500 = 50% (+20%-pt). 2024, Enhanced.Second Tier: Gross Monthly Wage Ceiling > $2,500 and ≤ $3,000 = 30% (+15%-pt). , Payout Period.Payout Period = . , Current.First Tier: Gross Monthly Wage Ceiling ≤ $2,500 = Single Tier: Gross Monthly Wage Ceiling ≤ $2,500. , Current.Second Tier: Gross Monthly Wage Ceiling > $2,500 and ≤ $3,000 = Single Tier: Gross Monthly Wage Ceiling ≤ $2,500. , Enhanced.First Tier: Gross Monthly Wage Ceiling ≤ $2,500 = Single Tier: Gross Monthly Wage Ceiling ≤ $3,000. , Enhanced.Second Tier: Gross Monthly\\n\\n2025, BRS. = $106,500. 2025, Before Changes (ERS at three times the BRS).ERS = $319,500. 2025, Before Changes (ERS at three times the BRS).Estimated monthly payouts = $2,530. 2025, Revised ERS from 1 January 2025 (ERS at four times the BRS).ERS = $426,000. 2025, Revised ERS from 1 January 2025 (ERS at four times the BRS).Estimated monthly payouts = $3,330. 2026, BRS. = $110,200. 2026, Before Changes (ERS at three times the BRS).ERS = $330,600. 2026, Before Changes (ERS at three times the BRS).Estimated monthly payouts = $2,610. 2026, Revised ERS from 1 January 2025 (ERS at four times the BRS).ERS = $440,800. 2026, Revised ERS from 1 January 2025 (ERS at four times the BRS).Estimated monthly payouts = $3,440. 2027, BRS. = $114,100. 2027, Before Changes (ERS at three times the BRS).ERS = $342,300. 2027, Before Changes (ERS at three times the BRS).Estimated monthly payouts = $2,690. 2027, Revised ERS from 1 January 2025 (ERS at four times the BRS).ERS = $456,400. 2027, Revised ERS from 1 January 2025 (ERS at four times the BRS).Estimated monthly payouts = $3,550\\nNotes:\\n1. There are no changes to the previously announced BRS and Full Retirement Sum for 2025 to 2027.\\n2. Estimated monthly payouts are based on the payouts of a male member who sets aside the ERS at age 55 and starts payouts under the CPF LIFE Standard Plan at age 65.\\nWith the raising of the ERS, more members aged 55 and above can opt to fully commit their accumulated CPF savings to receive higher CPF payouts.\\n\\nServices\\nTable 22: Revised PCHI Thresholds and Corresponding Monthly Payout Amount for ElderFund\\nTable 23: Revised PCHI Thresholds and Corresponding Subsidy Rates for Enabling Transport\\n\\nPCHI ≤ $1,200, Monthly PCHI to Qualify for Payout.Revised = PCHI ≤ $1,500. PCHI ≤ $1,200, Monthly Payout Amount (Singapore Citizens). = $250. PCHI ≤ $1,200, Monthly Payout Amount (Permanent Residents). = . $1,200 < PCHI ≤ $2,000, Monthly PCHI to Qualify for Payout.Revised = $1,500 < PCHI ≤ $2,600. $1,200 < PCHI ≤ $2,000, Monthly Payout Amount (Singapore Citizens). = $150. $1,200 < PCHI ≤ $2,000, Monthly Payout Amount (Permanent Residents). = $0. PCHI > $2,000, Monthly PCHI to Qualify for Payout.Revised = PCHI > $2,600. PCHI > $2,000, Monthly Payout Amount (Singapore Citizens). = $0. PCHI > $2,000, Monthly Payout Amount (Permanent Residents). ='"
      ]
     },
     "execution_count": 39,
     "metadata": {},
     "output_type": "execute_result"
    }
   ],
   "source": [
    "question = \"What are the payouts I can expect to receive in December 2024?\"\n",
    "docs = vectordb.similarity_search(question,k=3)\n",
    "format_docs(docs)"
   ]
  },
  {
   "cell_type": "code",
   "execution_count": 26,
   "id": "60839612-748c-4f26-bd75-1ab7c039d0f5",
   "metadata": {},
   "outputs": [
    {
     "data": {
      "text/plain": [
       "'B. Are we doing enough to help Singaporeans cope with inflation?\\n5. First, on helping Singaporeans cope with inflation and cost pressures.  Several Members, including Mr Yip Hon Weng, Mr Gan Thiam Poh, Mr Henry Kwek, Ms Hazel Poa and many others, spoke about this.\\n6. Let us start by looking at the reasons for high inflation over the last two years.  These reasons are certainly not unique to Singapore. For more than a decade before Covid, global inflation was generally stable, hovering at around 4% per annum. Singapore enjoyed relatively stable inflation too, and in most years, it was lower than global inflation.\\n7. But in 2021, prices in global food, goods, and energy markets rose quickly, as strong demand came up against constrained supply due to pandemic-related restrictions.\\n8. Then the Russia-Ukraine war broke out in early 2022. The two countries are major suppliers of key commodities, like oil and gas, fertiliser, and wheat. This brought about a further surge in prices.  Many countries also saw a surge in demand for domestic services, and did not have sufficient workers to meet the demand.\\nPage 3 of 56\\n9. These are the key drivers of inflation everywhere. Singapore, like all other countries, felt the impact too.\\n10. Even so, inflation in Singapore did not reach the peaks seen in several parts of the world.\\n\\n10. Even so, inflation in Singapore did not reach the peaks seen in several parts of the world.\\n11. One reason was effective monetary policy. MAS tightened monetary policy five consecutive times starting in October 2021. This meant allowing the Singapore dollar to appreciate more quickly, which helped to shield us against the sharp spike in imported inflation. Had MAS not acted, core inflation for the whole of 2023 would have been 6.6%, instead of 4.2%.\\n12. Other major central banks acted too.\\n13. With the overall monetary tightening and the stabilisation of supply chains, significant headway has been made in bringing inflation down around the world.\\nPage 4 of 56 14. Overall inflation has come down, in line with the rest of the world. In Singapore, our headline inflation was already moderating since last\\nyear, and is expected to moderate further this year. We expect this trend to continue, similar to other advanced economies.\\nSource   epartment of Statistics  Singapore  and International Monetary Fund World Economic Outlook  World .\\nNotes  Figures in chart refer to headline inflation in Singapore and the World, based on latest available data.\\n\\nB. Are we doing enough to help Singaporeans cope with inflation?\\n19. Sir, I have provided some key data points, so that we can understand the facts around the inflation situation globally and in Singapore.\\n20. In countries everywhere, including in Singapore, there tends to be a gap between economic data and perceptions. It is partly because it takes time for consumers to adjust to new economic realities.\\n21. Perceptions and sentiments are clearly important, and we take the feedback from the ground seriously, but we also need to examine the data closely to better shape policy responses.\\n22. It is in this broader context that the Government had extended support packages over the last two years to cushion the impact of inflation, particularly for lower- and middle-income Singaporeans.\\n23. This year, while inflation is moderating, we recognise that prices are still relatively high, and there are continued pressures for families and individuals.  That is why I have enhanced the Assurance Package in this Budget.\\n24. We have designed and sized the support of the enhancements carefully. There is something for everyone, regardless of age, property type, or income.\\n25. But we also do not want to inadvertently stimulate demand too much and push up prices, something which Ms Foo Mee Har cautioned against. So, the support is targeted and tilted towards those with less.'"
      ]
     },
     "execution_count": 26,
     "metadata": {},
     "output_type": "execute_result"
    }
   ],
   "source": [
    "question = \"What are the Key reasons for high inflation over the last two years?\"\n",
    "docs = vectordb.similarity_search(question,k=3)\n",
    "format_docs(docs)"
   ]
  },
  {
   "cell_type": "code",
   "execution_count": 37,
   "id": "46c56953-b5b0-4cb4-af56-9df6ffa5b2f0",
   "metadata": {},
   "outputs": [
    {
     "name": "stderr",
     "output_type": "stream",
     "text": [
      "2025-05-04 20:34:55,879 - INFO - HTTP Request: POST https://api.openai.com/v1/embeddings \"HTTP/1.1 200 OK\"\n",
      "  0%|                                                                                            | 0/1 [00:00<?, ?it/s]2025-05-04 20:34:59,358 - INFO - HTTP Request: POST https://api.openai.com/v1/chat/completions \"HTTP/1.1 200 OK\"\n",
      "100%|████████████████████████████████████████████████████████████████████████████████████| 1/1 [00:03<00:00,  3.48s/it]\n"
     ]
    },
    {
     "data": {
      "text/plain": [
       "\"Retirement Savings Bonus (Dec 2024)\\n- $1,000 to $1,500 one-off bonus to CPF Retirement or Special Account for Singaporeans with CPF retirement savings less than the 2023 Basic Retirement Sum ($99,400)\\n\\nB2024 Cost-of-Living ('COL') Special Payment\\nEligible Singaporeans (i) who are aged 21 and above in 2024, (ii) residing in Singapore, (iii) who do not own more than one property, and (iv) with Assessable Income of up to $100,000, will receive the one-off cash payment of between $200 and $400 in September 2024 . Refer to Table 2 for the scheme details.\\nThe B2024 COL Special Payment will benefit about 2.5 million adult Singaporeans.\\nTable 2: B2024 COL Special Payment\\n\\nB2024 COL Special Payment, Assessable Income.Up to $22,000 = $400. B2024 COL Special Payment, Assessable Income.More than $22,000 and up to $34,000 = $300. B2024 COL Special Payment, Assessable Income.More than $34,000 and up to $100,000 = $200\\nNotes:\\n1. Eligible adult Singaporeans must be residing in Singapore.\\n2. Assessable Income will be based on Year of Assessment (YA) 2023, i.e., income earned in 2022.\\n\\n2025\\nCash\\nNS LifeSG Credits [NEW]\\n$200\\nCPF MediSave\\nAccount [NEW]\\nCPF Retirement or\\nSpecial Account [NEW]\\n$200 to $600\\n$100 to $1,500\\n$1,000 to $1,500\\nPersonal Income Tax Rebate for the Year of Assessment (YA) 2024 [NEW]\\nUp to $200\\nCDC Vouchers\\n[NEW]\\nU-Save\\n[ENHANCED]\\n$300\\n$165 to $285\\nCPF MediSave Account\\nS&CC Rebate\\n[ENHANCED]\\n0.5 to 1 month\\nSeniors' Bonus\\n$150\\n$200 to $300\\nCPF Retirement or Special Account [NEW]\\n$400 to $1,000\\nNote: Benefits are subject to the individual's or household's eligibility.\""
      ]
     },
     "execution_count": 37,
     "metadata": {},
     "output_type": "execute_result"
    }
   ],
   "source": [
    "from langchain.retrievers import ContextualCompressionRetriever\n",
    "from langchain_community.document_compressors.rankllm_rerank import RankLLMRerank\n",
    "\n",
    "question = \"What are the payouts I can expect to receive in December 2024?\"\n",
    "\n",
    "\n",
    "compressor = RankLLMRerank(top_n=3, model=\"gpt\", gpt_model=\"gpt-4o-mini\")\n",
    "compression_retriever = ContextualCompressionRetriever(\n",
    "    base_compressor=compressor, base_retriever=vectordb.as_retriever(search_kwargs={\"k\": 10})\n",
    ")\n",
    "\n",
    "docs = compression_retriever.invoke(question)\n",
    "format_docs(docs)"
   ]
  },
  {
   "cell_type": "markdown",
   "id": "e8519074-23ae-494c-9eec-532fc727c5ac",
   "metadata": {},
   "source": [
    "#### Observation: After pulling from more chunks and reranking, the chunks were better to answer for \"What are the payouts that i can expect to receive in 2024\" than if only a similarity search is performed"
   ]
  },
  {
   "cell_type": "code",
   "execution_count": null,
   "id": "257c8b0b-03ce-4767-865a-36018e73c440",
   "metadata": {},
   "outputs": [],
   "source": []
  },
  {
   "cell_type": "code",
   "execution_count": null,
   "id": "487c4528-b8fa-405c-a644-b0ad75907298",
   "metadata": {},
   "outputs": [],
   "source": []
  }
 ],
 "metadata": {
  "kernelspec": {
   "display_name": "Python [conda env:base] *",
   "language": "python",
   "name": "conda-base-py"
  },
  "language_info": {
   "codemirror_mode": {
    "name": "ipython",
    "version": 3
   },
   "file_extension": ".py",
   "mimetype": "text/x-python",
   "name": "python",
   "nbconvert_exporter": "python",
   "pygments_lexer": "ipython3",
   "version": "3.12.7"
  }
 },
 "nbformat": 4,
 "nbformat_minor": 5
}
